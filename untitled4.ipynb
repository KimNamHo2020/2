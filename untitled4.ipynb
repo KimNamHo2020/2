{
  "nbformat": 4,
  "nbformat_minor": 0,
  "metadata": {
    "colab": {
      "provenance": [],
      "authorship_tag": "ABX9TyMluXVctsEMD7Z+JxrwgZvS",
      "include_colab_link": true
    },
    "kernelspec": {
      "name": "python3",
      "display_name": "Python 3"
    },
    "language_info": {
      "name": "python"
    }
  },
  "cells": [
    {
      "cell_type": "markdown",
      "metadata": {
        "id": "view-in-github",
        "colab_type": "text"
      },
      "source": [
        "<a href=\"https://colab.research.google.com/github/KimNamHo2020/2/blob/main/untitled4.ipynb\" target=\"_parent\"><img src=\"https://colab.research.google.com/assets/colab-badge.svg\" alt=\"Open In Colab\"/></a>"
      ]
    },
    {
      "cell_type": "code",
      "execution_count": null,
      "metadata": {
        "id": "wJfDBRjV-kWb",
        "outputId": "76de1c53-c57e-4482-a9a4-1f95633ed815",
        "colab": {
          "base_uri": "https://localhost:8080/"
        }
      },
      "outputs": [
        {
          "output_type": "stream",
          "name": "stdout",
          "text": [
            "Initial List: [30, 10, 40, 20, 50]\n",
            "After insert(1, 60): [30, 60, 10, 40, 20, 50]\n",
            "After replace(2, 70): [30, 60, 70, 40, 20, 50]\n",
            "After delete(2): [30, 60, 40, 20, 50]\n"
          ]
        }
      ],
      "source": [
        "my_list = []\n",
        "\n",
        "my_list.insert(0, 10)   # [10]\n",
        "my_list.insert(1, 20)   # [10, 20]\n",
        "my_list.insert(0, 30)   # [30, 10, 20]\n",
        "my_list.insert(2, 40)   # [30, 10, 40, 20]\n",
        "my_list.insert(len(my_list), 50)   # [30, 10, 40, 20, 50]\n",
        "\n",
        "print(\"Initial List:\", my_list)\n",
        "\n",
        "my_list.insert(1, 60)   # [30, 60, 10, 40, 20, 50]\n",
        "print(\"After insert(1, 60):\", my_list)\n",
        "\n",
        "if len(my_list) > 2:\n",
        "    my_list[2] = 70  # [30, 60, 70, 40, 20, 50]\n",
        "    print(\"After replace(2, 70):\", my_list)\n",
        "\n",
        "if len(my_list) > 2:\n",
        "    del my_list[2]     # [30, 60, 40, 20, 50]\n",
        "    print(\"After delete(2):\", my_list)\n"
      ]
    }
  ]
}